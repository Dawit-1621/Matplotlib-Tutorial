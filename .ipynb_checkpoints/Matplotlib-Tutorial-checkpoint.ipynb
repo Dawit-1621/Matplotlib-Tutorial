{
 "cells": [
  {
   "cell_type": "markdown",
   "id": "310660c9",
   "metadata": {},
   "source": [
    "## Matplotlib Tutorial"
   ]
  },
  {
   "cell_type": "markdown",
   "id": "ac0b7c18",
   "metadata": {},
   "source": [
    "Matplotlib is one of the most popular Python packages used for data visualization. It is a cross-platform library for making 2D plots from data in arrays. Matplotlib was originally written by John D. Hunter in 2003. "
   ]
  },
  {
   "cell_type": "code",
   "execution_count": 4,
   "id": "fe33c235",
   "metadata": {},
   "outputs": [],
   "source": [
    "import matplotlib"
   ]
  },
  {
   "cell_type": "code",
   "execution_count": 5,
   "id": "121d4cf7",
   "metadata": {},
   "outputs": [
    {
     "name": "stdout",
     "output_type": "stream",
     "text": [
      "3.3.4\n"
     ]
    }
   ],
   "source": [
    "#Checking Matplotlib Version\n",
    "print(matplotlib.__version__)"
   ]
  },
  {
   "cell_type": "markdown",
   "id": "a2344f00",
   "metadata": {},
   "source": [
    "### Pyplot\n",
    "Most of the Matplotlib utilities lies under the pyplot submodule, and are usually imported under the plt alias:"
   ]
  },
  {
   "cell_type": "code",
   "execution_count": null,
   "id": "25434505",
   "metadata": {},
   "outputs": [],
   "source": [
    "import matplotlib.pyplot as plt\n",
    "import numpy as np"
   ]
  }
 ],
 "metadata": {
  "kernelspec": {
   "display_name": "Python 3",
   "language": "python",
   "name": "python3"
  },
  "language_info": {
   "codemirror_mode": {
    "name": "ipython",
    "version": 3
   },
   "file_extension": ".py",
   "mimetype": "text/x-python",
   "name": "python",
   "nbconvert_exporter": "python",
   "pygments_lexer": "ipython3",
   "version": "3.8.8"
  }
 },
 "nbformat": 4,
 "nbformat_minor": 5
}
